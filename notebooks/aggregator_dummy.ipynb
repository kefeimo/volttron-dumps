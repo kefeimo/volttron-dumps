{
 "cells": [
  {
   "cell_type": "code",
   "execution_count": null,
   "id": "2314193a",
   "metadata": {},
   "outputs": [],
   "source": [
    "# ref: originally from: \n",
    "# https://github.com/VOLTTRON/volttron/blob/main/examples/JupyterNotebooks/Aggregator.ipynb"
   ]
  },
  {
   "cell_type": "code",
   "execution_count": 23,
   "id": "411f6ca2",
   "metadata": {},
   "outputs": [],
   "source": [
    "! export VOLTTRON_ROOT=\"/home/kefei/sandbox/volttron/\"\n",
    "! export VOLTTRON_HOME=\"/home/kefei/.volttron/\""
   ]
  },
  {
   "cell_type": "code",
   "execution_count": 24,
   "id": "e014eacc",
   "metadata": {},
   "outputs": [],
   "source": [
    "# VOLTTRON_ROOT=\"~/sandbox/volttron\"\n",
    "# VOLTTRON_HOME=\"~/.volttron\"\n",
    "VOLTTRON_ROOT=\"/home/kefei/sandbox/volttron/\"\n",
    "VOLTTRON_HOME=\"/home/kefei/.volttron/\""
   ]
  },
  {
   "cell_type": "code",
   "execution_count": 25,
   "id": "9c495807",
   "metadata": {},
   "outputs": [
    {
     "name": "stdout",
     "output_type": "stream",
     "text": [
      "/home/kefei/sandbox/volttron/\r\n"
     ]
    }
   ],
   "source": [
    "! echo $VOLTTRON_ROOT"
   ]
  },
  {
   "cell_type": "code",
   "execution_count": 26,
   "id": "60747679",
   "metadata": {},
   "outputs": [
    {
     "name": "stderr",
     "output_type": "stream",
     "text": [
      "UsageError: Environment does not have key: VOLTTRON_ROOT\n"
     ]
    }
   ],
   "source": [
    "%env VOLTTRON_ROOT"
   ]
  },
  {
   "cell_type": "code",
   "execution_count": 27,
   "id": "cc7cf17c",
   "metadata": {},
   "outputs": [
    {
     "name": "stdout",
     "output_type": "stream",
     "text": [
      "aggregator_dummy.ipynb\tdocs\t      README.md\t\tstop-volttron\r\n",
      "bootstrap.py\t\tenv\t      readthedocs.yml\tTERMS.md\r\n",
      "ci-integration\t\texamples      RELEASE_NOTES.md\tUntitled.ipynb\r\n",
      "configs\t\t\tintegrations  requirements.py\tvolttron\r\n",
      "CONTRIBUTING.md\t\tLICENSE.md    scripts\t\tvolttron_data\r\n",
      "COPYRIGHT\t\t__pycache__   services\t\tvolttron.egg-info\r\n",
      "debugging_utils\t\tpylintrc      setup.py\t\tvolttron.log\r\n",
      "deprecated\t\tpytest.ini    start-volttron\tvolttrontesting\r\n"
     ]
    }
   ],
   "source": [
    "! ls $VOLTTRON_ROOT"
   ]
  },
  {
   "cell_type": "code",
   "execution_count": 28,
   "id": "31eb9b85",
   "metadata": {},
   "outputs": [
    {
     "name": "stdout",
     "output_type": "stream",
     "text": [
      "aggregator_dummy.ipynb\tdocs\t      README.md\t\tstop-volttron\r\n",
      "bootstrap.py\t\tenv\t      readthedocs.yml\tTERMS.md\r\n",
      "ci-integration\t\texamples      RELEASE_NOTES.md\tUntitled.ipynb\r\n",
      "configs\t\t\tintegrations  requirements.py\tvolttron\r\n",
      "CONTRIBUTING.md\t\tLICENSE.md    scripts\t\tvolttron_data\r\n",
      "COPYRIGHT\t\t__pycache__   services\t\tvolttron.egg-info\r\n",
      "debugging_utils\t\tpylintrc      setup.py\t\tvolttron.log\r\n",
      "deprecated\t\tpytest.ini    start-volttron\tvolttrontesting\r\n"
     ]
    }
   ],
   "source": [
    "! ls ~/sandbox/volttron/"
   ]
  },
  {
   "cell_type": "code",
   "execution_count": 29,
   "id": "5a4cf70f",
   "metadata": {},
   "outputs": [
    {
     "name": "stdout",
     "output_type": "stream",
     "text": [
      "VOLTTRON_ROOT=/home/kefei/sandbox/volttron/\n",
      "VOLTTRON_HOME=/home/kefei/.volttron/\n",
      "env: VIP_SOCKET=ipc:///home/kefei/.volttron//run/vip.socket\n",
      "Initialization complete\n"
     ]
    }
   ],
   "source": [
    "import datetime\n",
    "import json\n",
    "import os\n",
    "import pprint\n",
    "import sqlite3\n",
    "import subprocess\n",
    "import sys\n",
    "import time\n",
    "\n",
    "# Define a \"run this shell command\" method, wrapping subprocess.check_output()\n",
    "def _sh(shell_command, shell=True, stderr=None):\n",
    "    try:\n",
    "        return_value = subprocess.check_output(shell_command, shell=shell, stderr=stderr)\n",
    "    except Exception as err:\n",
    "        print('Shell command failed: {}', shell_command)\n",
    "        print(err)\n",
    "        return_value = 'Error'\n",
    "    return return_value\n",
    "\n",
    "# Same as _sh(), except that this also prints the command output, preceded by an optional label.\n",
    "def _print_sh(shell_command, label=None, **kwargs):\n",
    "    print('{0}: {1}\\n'.format(label+':' if label else '', _sh(shell_command, **kwargs)))\n",
    "\n",
    "# Set up local variables vhome and vroot.\n",
    "# The environment variables VOLTTRON_ROOT and VOLTTRON_HOME should already be defined -- see above.\n",
    "# ref: https://stackoverflow.com/questions/37890898/how-to-set-env-variable-in-jupyter-notebook\n",
    "# vroot = %env VOLTTRON_ROOT\n",
    "# vhome = %env VOLTTRON_HOME\n",
    "vroot = VOLTTRON_ROOT\n",
    "vhome = VOLTTRON_HOME\n",
    "print(\"VOLTTRON_ROOT={}\".format(vroot))\n",
    "print(\"VOLTTRON_HOME={}\".format(vhome))\n",
    "\n",
    "# Define a VIP_SOCKET environment variable for use while installing and running agents.\n",
    "socket_name = 'ipc://' + vhome + '/run/vip.socket'\n",
    "%env VIP_SOCKET=$socket_name\n",
    "\n",
    "# Run from the VOLTTRON root directory.\n",
    "os.chdir(vroot)\n",
    "\n",
    "data_dir = vhome + '/data'\n",
    "\n",
    "print(\"Initialization complete\")"
   ]
  },
  {
   "cell_type": "code",
   "execution_count": 30,
   "id": "5c80dd80",
   "metadata": {},
   "outputs": [],
   "source": [
    "# Setup: Shut Down All Agents\n",
    "# This ensures a clean agent installation process by the notebook."
   ]
  },
  {
   "cell_type": "code",
   "execution_count": 31,
   "id": "67867385",
   "metadata": {},
   "outputs": [
    {
     "name": "stdout",
     "output_type": "stream",
     "text": [
      "Wait for the list to be displayed, and confirm that no agents are listed as running...\n",
      "\n",
      ": b'UUID AGENT                    IDENTITY            TAG                STATUS          HEALTH\\n6 listeneragent-3.3        listeneragent-3.3_1 listener           0               \\n9 platform_driveragent-4.0 platform.driver     platform_driver    0               \\nb sqlhistorianagent-4.0.0  platform.historian  platform_historian 0               \\n'\n",
      "\n"
     ]
    }
   ],
   "source": [
    "print('Wait for the list to be displayed, and confirm that no agents are listed as running...\\n')\n",
    "\n",
    "# Shut down all agents.\n",
    "_sh('volttron-ctl shutdown')\n",
    "\n",
    "# List agent status to verify that the status of each agent is 0 or blank.\n",
    "_print_sh('volttron-ctl status', stderr=subprocess.STDOUT)"
   ]
  },
  {
   "cell_type": "code",
   "execution_count": 32,
   "id": "0ed7d74b",
   "metadata": {},
   "outputs": [],
   "source": [
    "# Setup: Discover the Aggregator's Network Parameters\n",
    "# Each Collector and Observer must know this Aggregator's network parameters so that it can forward data to it or pull data from it. Discover those parameters now.\n",
    "\n",
    "# Copy the vip-address's IP and port, and the serverkey, to the Collector or Observer notebook under 'Setup: Configure the Aggregator's Network Parameters'.\n",
    "\n",
    "# Also, make sure that this port is open for TCP access on the Aggregator's host."
   ]
  },
  {
   "cell_type": "code",
   "execution_count": 101,
   "id": "a55d043f",
   "metadata": {},
   "outputs": [],
   "source": [
    "# Be careful don't expose this\n",
    "_print_sh('curl ifconfig.me', label='Public IP address')\n",
    "#   % Total    % Received % Xferd  Average Speed   Time    Time     Time  Current\n",
    "#                                  Dload  Upload   Total   Spent    Left  Speed\n",
    "#   0     0    0     0    0     0      0      0 --:--:-- --:--:-- --:--:--     0\n",
    "\n",
    "# Public IP address:: b'0.0.0.5'\n",
    "\n",
    "# 100    12  100    12    0     0     30      0 --:--:-- --:--:-- --:--:--    30\n"
   ]
  },
  {
   "cell_type": "code",
   "execution_count": 94,
   "id": "6505a369",
   "metadata": {},
   "outputs": [],
   "source": [
    "# Obtain this server's IP address, volttron port number (usually 22916), and server key:\n",
    "# Be careful don't expose this\n",
    "\n",
    "# Uncomment us\n",
    "\n",
    "# print('Obtaining network parameters and server key; please wait...\\n')\n",
    "# _print_sh('curl ifconfig.me', label='Public IP address')\n",
    "# _print_sh('volttron-ctl auth serverkey', label='Serverkey')\n",
    "# _print_sh('cat {}/config'.format(vhome), label='Config file')"
   ]
  },
  {
   "cell_type": "code",
   "execution_count": 34,
   "id": "b38dddd4",
   "metadata": {},
   "outputs": [],
   "source": [
    "# Setup: Add Each Collector and Observer to known_hosts\n",
    "# Do the following for each Collector and Observer, substituting that server's IP address, port number and server key below.\n",
    "\n",
    "# Get each Collector's data from 'Setup: Update the Aggregator's known_hosts File' in the Collector notebook.\n",
    "\n",
    "# Get each Observer's data from 'Setup: Update the Aggregator's known_hosts File' in the Observer notebook."
   ]
  },
  {
   "cell_type": "code",
   "execution_count": 36,
   "id": "4b62b2af",
   "metadata": {},
   "outputs": [
    {
     "name": "stdout",
     "output_type": "stream",
     "text": [
      "known_hosts file contents are now: \n",
      "{\n",
      "    \"@\": \"RSEE4FXYHJemqqRHehqxSt2Dpx-lu6Q7Y7lFj8RghDI\",\n",
      "    \"127.0.0.1:22916\": \"RSEE4FXYHJemqqRHehqxSt2Dpx-lu6Q7Y7lFj8RghDI\",\n",
      "    \"foo:22916\": \"bar\"\n",
      "}\n"
     ]
    }
   ],
   "source": [
    "# For each remote VOLTTRON instance (Collector or Observer),\n",
    "# change the following three strings and then execute this code\n",
    "# to add the instance's properties to the Aggregator's known_hosts file:\n",
    "remote_ip_address = 'foo'\n",
    "remote_port_number = '22916'\n",
    "remote_server_key = 'bar'\n",
    "\n",
    "_sh('volttron-ctl auth add-known-host --host {0}:{1} --serverkey {2}'.format(remote_ip_address, \n",
    "                                                                             remote_port_number, \n",
    "                                                                             remote_server_key))\n",
    "with open(vhome + '/known_hosts', 'r') as kh_file:\n",
    "    print ('known_hosts file contents are now: \\n{0}'.format(kh_file.read()))"
   ]
  },
  {
   "cell_type": "code",
   "execution_count": 37,
   "id": "9a7c4d8f",
   "metadata": {},
   "outputs": [],
   "source": [
    "# Setup: Configure a SQLHistorian"
   ]
  },
  {
   "cell_type": "code",
   "execution_count": 38,
   "id": "f1fdfe49",
   "metadata": {},
   "outputs": [
    {
     "name": "stdout",
     "output_type": "stream",
     "text": [
      "config = {\n",
      "    \"agentid\": \"sqlhistorian-sqlite\",\n",
      "    \"connection\": {\n",
      "        \"type\": \"sqlite\",\n",
      "        \"params\": {\n",
      "            \"database\": \"/home/kefei/.volttron//data/historian.sqlite\"\n",
      "        }\n",
      "    },\n",
      "    \"tables_def\": {\n",
      "        \"table_prefix\": \"\",\n",
      "        \"data_table\": \"data_table\",\n",
      "        \"topics_table\": \"topics_table\",\n",
      "        \"meta_table\": \"meta_table\"\n",
      "    }\n",
      "}\n",
      "Historian configuration written to /home/kefei/.volttron//my_aggregator_historian.config\n"
     ]
    }
   ],
   "source": [
    "# Create a SQLHistorian configuration specifically for this project\n",
    "\n",
    "# The historian's database will reside in $VOLTTRON_HOME/data. \n",
    "# Make sure that the directory exists.\n",
    "if not os.path.exists(data_dir):\n",
    "    _sh('mkdir {0}'.format(data_dir))\n",
    "\n",
    "config = '''{{\n",
    "    \"agentid\": \"sqlhistorian-sqlite\",\n",
    "    \"connection\": {{\n",
    "        \"type\": \"sqlite\",\n",
    "        \"params\": {{\n",
    "            \"database\": \"{0}/historian.sqlite\"\n",
    "        }}\n",
    "    }},\n",
    "    \"tables_def\": {{\n",
    "        \"table_prefix\": \"\",\n",
    "        \"data_table\": \"data_table\",\n",
    "        \"topics_table\": \"topics_table\",\n",
    "        \"meta_table\": \"meta_table\"\n",
    "    }}\n",
    "}}'''.format(data_dir)\n",
    "print(\"config = {}\".format(config))\n",
    "config_path = vhome + '/my_aggregator_historian.config'\n",
    "with open(config_path, 'w') as file:\n",
    "    file.write(config)\n",
    "print('Historian configuration written to {}'.format(config_path))"
   ]
  },
  {
   "cell_type": "code",
   "execution_count": 39,
   "id": "703c9ad5",
   "metadata": {},
   "outputs": [],
   "source": [
    "# Setup: Install Agents\n",
    "# Install each agent employed by the Aggregator: a SQLHistorian and 2 Volttron Central agents."
   ]
  },
  {
   "cell_type": "code",
   "execution_count": 40,
   "id": "dea50728",
   "metadata": {},
   "outputs": [
    {
     "name": "stdout",
     "output_type": "stream",
     "text": [
      "Wait for the list to be displayed, then confirm that all of these agents appear in it...\n",
      "Installed sqlite_historian\n"
     ]
    },
    {
     "name": "stderr",
     "output_type": "stream",
     "text": [
      "Traceback (most recent call last):\n",
      "  File \"/home/kefei/volttron/env/bin/volttron-ctl\", line 11, in <module>\n",
      "    load_entry_point('volttron', 'console_scripts', 'volttron-ctl')()\n",
      "  File \"/home/kefei/volttron/volttron/platform/control.py\", line 4458, in _main\n",
      "    sys.exit(main())\n",
      "  File \"/home/kefei/volttron/volttron/platform/control.py\", line 4408, in main\n",
      "    return opts.func(opts)\n",
      "  File \"/home/kefei/volttron/volttron/platform/install_agents.py\", line 223, in install_agent_vctl\n",
      "    agent_uuid = install_agent_local(opts, publickey=publickey,\n",
      "  File \"/home/kefei/volttron/volttron/platform/install_agents.py\", line 252, in install_agent_local\n",
      "    agent_uuid = install_agent_directory(opts, publickey, secretkey)\n",
      "  File \"/home/kefei/volttron/volttron/platform/install_agents.py\", line 101, in install_agent_directory\n",
      "    opts.package = create_package(opts.install_path, wheelhouse, opts.vip_identity)\n",
      "  File \"/home/kefei/volttron/volttron/platform/packaging.py\", line 328, in create_package\n",
      "    wheel_path = _create_initial_package(agent_package_dir, wheelhouse, identity)\n",
      "  File \"/home/kefei/volttron/volttron/platform/packaging.py\", line 357, in _create_initial_package\n",
      "    raise ValueError(f\"Couldn't compile agent directory: {response.stderr}\")\n",
      "ValueError: Couldn't compile agent directory: b'Traceback (most recent call last):\\n  File \"setup.py\", line 59, in <module>\\n    _temp = __import__(agent_module, globals(), locals(), [\\'__version__\\'], 0)\\n  File \"/tmp/tmp66255gde/pkg/vcplatform/agent.py\", line 83, in <module>\\n    from volttron.platform.web import DiscoveryInfo, DiscoveryError\\n  File \"/home/kefei/volttron/volttron/platform/web/__init__.py\", line 53, in <module>\\n    from . platform_web_service import PlatformWebService\\n  File \"/home/kefei/volttron/volttron/platform/web/platform_web_service.py\", line 51, in <module>\\n    import jwt\\nModuleNotFoundError: No module named \\'jwt\\'\\n'\n"
     ]
    },
    {
     "name": "stdout",
     "output_type": "stream",
     "text": [
      "Installed vcp\n",
      "Installed vc\n",
      ": b'UUID AGENT                    IDENTITY            TAG                STATUS          HEALTH\\n6 listeneragent-3.3        listeneragent-3.3_1 listener           0               \\n9 platform_driveragent-4.0 platform.driver     platform_driver    0               \\nb sqlhistorianagent-4.0.0  platform.historian  platform_historian 0               \\n8 sqlhistorianagent-4.0.0  sqlite_historian    sqlite_historian                   \\n3 volttroncentralagent-5.2 volttron.central    vc                                 \\n'\n",
      "\n"
     ]
    }
   ],
   "source": [
    "print('Wait for the list to be displayed, then confirm that all of these agents appear in it...')\n",
    "\n",
    "def install_agent(dir=None, id=None, config=None, tag=None):\n",
    "    script_install_command = 'python scripts/install-agent.py -s {0} -i {1} -c {2} -t {3} -f'\n",
    "    _sh(script_install_command.format(dir, id, config, tag))\n",
    "    print('Installed {}'.format(tag))\n",
    "\n",
    "# Install a SQL Historian agent that captures metrics in a SQLite database\n",
    "install_agent(dir=vroot+'/services/core/SQLHistorian',\n",
    "              id='sqlite_historian',\n",
    "              config=vhome + '/my_aggregator_historian.config',\n",
    "              tag='sqlite_historian')\n",
    "\n",
    "# Install a Platform Agent\n",
    "install_agent(dir=vroot+'/services/core/VolttronCentralPlatform',\n",
    "              id='platform.agent',\n",
    "              config=vroot+'/services/core/VolttronCentralPlatform/config', \n",
    "              tag='vcp')\n",
    "\n",
    "# Install a Volttron Central Agent\n",
    "install_agent(dir=vroot+'/services/core/VolttronCentral',\n",
    "              id='volttron.central',\n",
    "              config=vroot+'/services/core/VolttronCentral/config', \n",
    "              tag='vc')\n",
    "\n",
    "# List agent status to verify that the agents were installed successfully.\n",
    "_print_sh('volttron-ctl status', stderr=subprocess.STDOUT)"
   ]
  },
  {
   "cell_type": "code",
   "execution_count": 41,
   "id": "3d4548b9",
   "metadata": {},
   "outputs": [],
   "source": [
    "# Execution: Refresh variables, stop agents, delete database"
   ]
  },
  {
   "cell_type": "code",
   "execution_count": 44,
   "id": "91d12690",
   "metadata": {},
   "outputs": [
    {
     "name": "stdout",
     "output_type": "stream",
     "text": [
      "Make a fresh start - refresh variable definitions, shut down any running agents, refresh the database\n",
      "VOLTTRON_ROOT=/home/kefei/sandbox/volttron/\n",
      "VOLTTRON_HOME=/home/kefei/.volttron/\n",
      "env: VIP_SOCKET=ipc:///home/kefei/.volttron//run/vip.socket\n",
      ": b'UUID AGENT                    IDENTITY            TAG                STATUS          HEALTH\\n6 listeneragent-3.3        listeneragent-3.3_1 listener           0               \\n9 platform_driveragent-4.0 platform.driver     platform_driver    0               \\nb sqlhistorianagent-4.0.0  platform.historian  platform_historian 0               \\n8 sqlhistorianagent-4.0.0  sqlite_historian    sqlite_historian                   \\n3 volttroncentralagent-5.2 volttron.central    vc                                 \\n'\n",
      "\n"
     ]
    }
   ],
   "source": [
    "print('Make a fresh start - refresh variable definitions, shut down any running agents, refresh the database')\n",
    "\n",
    "import datetime\n",
    "import json\n",
    "import os\n",
    "import pprint\n",
    "import sqlite3\n",
    "import subprocess\n",
    "import sys\n",
    "import time\n",
    "\n",
    "# Define a \"run this shell command\" method, wrapping subprocess.check_output()\n",
    "def _sh(shell_command, shell=True, stderr=None):\n",
    "    try:\n",
    "        return_value = subprocess.check_output(shell_command, shell=shell, stderr=stderr)\n",
    "    except Exception as err:\n",
    "        print('Shell command failed: {}', shell_command)\n",
    "        print(err)\n",
    "        return_value = 'Error'\n",
    "    return return_value\n",
    "\n",
    "# Same as _sh(), except that this also prints the command output, preceded by an optional label.\n",
    "def _print_sh(shell_command, label=None, **kwargs):\n",
    "    print('{0}: {1}\\n'.format(label+':' if label else '', _sh(shell_command, **kwargs)))\n",
    "\n",
    "# Set up local variables vhome and vroot.\n",
    "# The environment variables VOLTTRON_ROOT and VOLTTRON_HOME should already be defined -- see above.\n",
    "# vroot = %env VOLTTRON_ROOT\n",
    "# vhome = %env VOLTTRON_HOME\n",
    "vroot = VOLTTRON_ROOT\n",
    "vhome = VOLTTRON_HOME\n",
    "print(\"VOLTTRON_ROOT={}\".format(vroot))\n",
    "print(\"VOLTTRON_HOME={}\".format(vhome))\n",
    "\n",
    "# Define a VIP_SOCKET environment variable for use while installing and running agents.\n",
    "socket_name = 'ipc://' + vhome + '/run/vip.socket'\n",
    "%env VIP_SOCKET=$socket_name\n",
    "\n",
    "# Run from the VOLTTRON root directory.\n",
    "os.chdir(vroot)\n",
    "\n",
    "data_dir = vhome + '/data'\n",
    "\n",
    "# Delete the Historian's SQLite database to get a fresh start.\n",
    "if os.path.exists(data_dir + '/historian.sqlite'):\n",
    "    _sh('rm {0}'.format(data_dir + '/historian.sqlite'))\n",
    "\n",
    "# Shut down all agents.\n",
    "_sh('volttron-ctl shutdown')\n",
    "\n",
    "# List agent status to verify that the status of each agent is 0 or blank.\n",
    "_print_sh('volttron-ctl status', stderr=subprocess.STDOUT)"
   ]
  },
  {
   "cell_type": "code",
   "execution_count": 45,
   "id": "0b22593d",
   "metadata": {},
   "outputs": [],
   "source": [
    "# Execution: Start the agents\n",
    "# When ready to start collecting metrics from Collectors, using the Historian to record them, start the agents."
   ]
  },
  {
   "cell_type": "code",
   "execution_count": 88,
   "id": "b2fdc961",
   "metadata": {},
   "outputs": [
    {
     "name": "stdout",
     "output_type": "stream",
     "text": [
      "Wait for the list to be displayed, then confirm that each started agent is running...\n"
     ]
    },
    {
     "name": "stderr",
     "output_type": "stream",
     "text": [
      "start: error: agent not found: vcp\n"
     ]
    },
    {
     "name": "stdout",
     "output_type": "stream",
     "text": [
      ": b'UUID AGENT                    IDENTITY            TAG                STATUS          HEALTH\\n6 listeneragent-3.3        listeneragent-3.3_1 listener           0               \\n9 platform_driveragent-4.0 platform.driver     platform_driver    0               \\nb sqlhistorianagent-4.0.0  platform.historian  platform_historian 0               \\n8 sqlhistorianagent-4.0.0  sqlite_historian    sqlite_historian   running [15715] GOOD\\n3 volttroncentralagent-5.2 volttron.central    vc                 running [15730] GOOD\\n'\n",
      "\n"
     ]
    }
   ],
   "source": [
    "print('Wait for the list to be displayed, then confirm that each started agent is running...')\n",
    "\n",
    "_sh('volttron-ctl start --tag sqlite_historian')\n",
    "_sh('volttron-ctl start --tag vcp')\n",
    "_sh('volttron-ctl start --tag vc')\n",
    "\n",
    "# List agent status to verify that the started agents have status \"running\".\n",
    "_print_sh('volttron-ctl status', stderr=subprocess.STDOUT)"
   ]
  },
  {
   "cell_type": "code",
   "execution_count": 91,
   "id": "f434e667",
   "metadata": {},
   "outputs": [],
   "source": [
    "! volttron-ctl start --tag sqlite_historian"
   ]
  },
  {
   "cell_type": "code",
   "execution_count": 92,
   "id": "6df64eae",
   "metadata": {},
   "outputs": [
    {
     "name": "stdout",
     "output_type": "stream",
     "text": [
      "UUID AGENT                    IDENTITY            TAG                STATUS          HEALTH\r\n",
      "6 listeneragent-3.3        listeneragent-3.3_1 listener           0               \r\n",
      "9 platform_driveragent-4.0 platform.driver     platform_driver    0               \r\n",
      "b sqlhistorianagent-4.0.0  platform.historian  platform_historian 0               \r\n",
      "8 sqlhistorianagent-4.0.0  sqlite_historian    sqlite_historian   running [15715] GOOD\r\n",
      "3 volttroncentralagent-5.2 volttron.central    vc                 running [15730] GOOD\r\n"
     ]
    }
   ],
   "source": [
    "! volttron-ctl status"
   ]
  },
  {
   "cell_type": "code",
   "execution_count": 47,
   "id": "5a5c4fa2",
   "metadata": {},
   "outputs": [],
   "source": [
    "# Data Reporting: Prepare to Execute Sqlite Commands"
   ]
  },
  {
   "cell_type": "code",
   "execution_count": 57,
   "id": "50803226",
   "metadata": {},
   "outputs": [],
   "source": [
    "# Define a function that executes SQLite commands on our Historian database\n",
    "def run_sqlite_cmd(command_string):\n",
    "    return _print_sh('sqlite3 {0} {1}'.format(data_dir + '/historian.sqlite', command_string))"
   ]
  },
  {
   "cell_type": "code",
   "execution_count": 49,
   "id": "674e839b",
   "metadata": {},
   "outputs": [],
   "source": [
    "# Data Reporting: Describe the Historian's Database Schema\n",
    "# Start the data reporting process by displaying the schema of the Historian's SQLite database."
   ]
  },
  {
   "cell_type": "code",
   "execution_count": 58,
   "id": "87040669",
   "metadata": {},
   "outputs": [
    {
     "name": "stdout",
     "output_type": "stream",
     "text": [
      ": b'CREATE TABLE data_table (ts timestamp NOT NULL,\\n                     topic_id INTEGER NOT NULL,\\n                     value_string TEXT NOT NULL,\\n                     UNIQUE(topic_id, ts));\\nCREATE INDEX data_idx \\n                ON data_table (ts ASC);\\nCREATE TABLE topics_table (topic_id INTEGER PRIMARY KEY,\\n                     topic_name TEXT NOT NULL,\\n                     metadata TEXT,\\n                     UNIQUE(topic_name));\\n'\n",
      "\n"
     ]
    }
   ],
   "source": [
    "run_sqlite_cmd('\".schema\"')"
   ]
  },
  {
   "cell_type": "code",
   "execution_count": 69,
   "id": "523cfbef",
   "metadata": {},
   "outputs": [],
   "source": [
    "# Data Reporting: List the Topics\n",
    "# List each topic in the database's topics_table. This is the list of each type of data that has been captured and stored."
   ]
  },
  {
   "cell_type": "code",
   "execution_count": 73,
   "id": "d840ab40",
   "metadata": {},
   "outputs": [
    {
     "name": "stdout",
     "output_type": "stream",
     "text": [
      ": b''\n",
      "\n"
     ]
    }
   ],
   "source": [
    "run_sqlite_cmd('\"SELECT * FROM topics_table;\"')\n",
    "# run_sqlite_cmd('\"SELECT * FROM data;\"')"
   ]
  },
  {
   "cell_type": "code",
   "execution_count": 74,
   "id": "100a271f",
   "metadata": {},
   "outputs": [],
   "source": [
    "# Data Reporting: List Values for a Single Topic\n",
    "# Select a single topic by name, and list each value in the database for it."
   ]
  },
  {
   "cell_type": "code",
   "execution_count": 90,
   "id": "610b4299",
   "metadata": {},
   "outputs": [
    {
     "name": "stdout",
     "output_type": "stream",
     "text": [
      "sqlite command: \n",
      "\"SELECT ts, value_string FROM data_table INNER JOIN topics_table on (data_table.topic_id = topics_table.topic_id)  WHERE topics_table.topic_name = 'simstorage/soc_kwh';\"\n",
      "\n",
      ": b''\n",
      "\n"
     ]
    }
   ],
   "source": [
    "topic_name = 'simstorage/soc_kwh'\n",
    "\n",
    "display_variables = 'ts, value_string'\n",
    "join_statement = 'INNER JOIN topics_table on (data_table.topic_id = topics_table.topic_id) '\n",
    "sqlite_cmd = '''\"SELECT {0} FROM data_table {1} WHERE topics_table.topic_name = '{2}';\"'''.format(\n",
    "    display_variables,\n",
    "    join_statement,\n",
    "    topic_name)\n",
    "print('sqlite command: \\n{0}\\n'.format(sqlite_cmd))\n",
    "\n",
    "run_sqlite_cmd(sqlite_cmd)"
   ]
  },
  {
   "cell_type": "code",
   "execution_count": 76,
   "id": "2038f1ae",
   "metadata": {},
   "outputs": [],
   "source": [
    "# Data Reporting: Graph Values for a Single Topic\n",
    "# Use numpy and matplotlib to produce a graph of the values for a topic."
   ]
  },
  {
   "cell_type": "code",
   "execution_count": 89,
   "id": "0a663e81",
   "metadata": {},
   "outputs": [
    {
     "name": "stdout",
     "output_type": "stream",
     "text": [
      "sqlite command: \n",
      "SELECT ts, value_string FROM data_table INNER JOIN topics_table on (data_table.topic_id = topics_table.topic_id)  WHERE topics_table.topic_name = 'simstorage/soc_kwh';\n",
      "\n",
      "No data returned from query\n"
     ]
    }
   ],
   "source": [
    "topic_name = 'simstorage/soc_kwh'\n",
    "\n",
    "display_variables = 'ts, value_string'\n",
    "join_statement = 'INNER JOIN topics_table on (data_table.topic_id = topics_table.topic_id) '\n",
    "sqlite_cmd = '''SELECT {0} FROM data_table {1} WHERE topics_table.topic_name = '{2}';'''.format(\n",
    "    display_variables,\n",
    "    join_statement,\n",
    "    topic_name)\n",
    "print('sqlite command: \\n{0}\\n'.format(sqlite_cmd))\n",
    "\n",
    "import numpy\n",
    "import matplotlib.pyplot as plt\n",
    "from matplotlib import dates\n",
    "\n",
    "# Connect to the SQLite database\n",
    "conn = sqlite3.connect(data_dir + '/historian.sqlite')\n",
    "c = conn.cursor()\n",
    "\n",
    "# Populate graphArray with the result of querying the database for the specified topic.\n",
    "graphArray = []\n",
    "for row in c.execute(sqlite_cmd):\n",
    "    # Remove parentheses and single quotes\n",
    "    row_string_filtered = str(row).translate(None, \"()'u\\'\")\n",
    "    # In Python 3, the Unicode string would need to be filtered like this:\n",
    "    row_string_filtered = str(row).translate({ord(c): None for c in \"()'u\\'\"})\n",
    "    graphArray.append(row_string_filtered)\n",
    "\n",
    "if graphArray:\n",
    "    timestamps, values = numpy.loadtxt(graphArray,\n",
    "                                       delimiter=',',\n",
    "                                       unpack=True,\n",
    "                                       converters={0: dates.strpdate2num('%Y-%m-%dT%H:%M:%S.%f+00:00')})\n",
    "    fig = plt.figure()\n",
    "    fig.add_subplot(1, 1, 1, facecolor='white')\n",
    "    plt.plot_date(x=timestamps, y=values, fmt='b-')\n",
    "    plt.gcf().autofmt_xdate()\n",
    "    plt.show()\n",
    "else:\n",
    "    print('No data returned from query')"
   ]
  },
  {
   "cell_type": "code",
   "execution_count": 81,
   "id": "9a168e3d",
   "metadata": {},
   "outputs": [
    {
     "data": {
      "text/plain": [
       "'/home/kefei/.volttron//data/historian.sqlite'"
      ]
     },
     "execution_count": 81,
     "metadata": {},
     "output_type": "execute_result"
    }
   ],
   "source": [
    "data_dir + '/historian.sqlite'"
   ]
  },
  {
   "cell_type": "code",
   "execution_count": 84,
   "id": "2a930ea5",
   "metadata": {},
   "outputs": [
    {
     "name": "stdout",
     "output_type": "stream",
     "text": [
      "historian.sqlite\r\n"
     ]
    }
   ],
   "source": [
    "! ls /home/kefei/.volttron//data/"
   ]
  },
  {
   "cell_type": "code",
   "execution_count": 80,
   "id": "e1e69c91",
   "metadata": {},
   "outputs": [
    {
     "data": {
      "text/plain": [
       "<sqlite3.Connection at 0x7f57d3c7a030>"
      ]
     },
     "execution_count": 80,
     "metadata": {},
     "output_type": "execute_result"
    }
   ],
   "source": [
    "conn"
   ]
  },
  {
   "cell_type": "code",
   "execution_count": 86,
   "id": "f0d377ad",
   "metadata": {},
   "outputs": [],
   "source": [
    "# Shutdown: Stop all agents\n",
    "# When finished, stop all VOLTTRON agents."
   ]
  },
  {
   "cell_type": "code",
   "execution_count": 87,
   "id": "e146074c",
   "metadata": {},
   "outputs": [
    {
     "name": "stdout",
     "output_type": "stream",
     "text": [
      ": b'UUID AGENT                    IDENTITY            TAG                STATUS          HEALTH\\n6 listeneragent-3.3        listeneragent-3.3_1 listener           0               \\n9 platform_driveragent-4.0 platform.driver     platform_driver    0               \\nb sqlhistorianagent-4.0.0  platform.historian  platform_historian 0               \\n8 sqlhistorianagent-4.0.0  sqlite_historian    sqlite_historian   0               \\n3 volttroncentralagent-5.2 volttron.central    vc                 0               \\n'\n",
      "\n"
     ]
    }
   ],
   "source": [
    "# Stop all agents.\n",
    "_sh('volttron-ctl shutdown')\n",
    "\n",
    "# Verify that all agents have been stopped.\n",
    "_print_sh('volttron-ctl status', stderr=subprocess.STDOUT)"
   ]
  },
  {
   "cell_type": "code",
   "execution_count": null,
   "id": "a1770b79",
   "metadata": {},
   "outputs": [],
   "source": []
  }
 ],
 "metadata": {
  "kernelspec": {
   "display_name": "Python 3 (ipykernel)",
   "language": "python",
   "name": "python3"
  },
  "language_info": {
   "codemirror_mode": {
    "name": "ipython",
    "version": 3
   },
   "file_extension": ".py",
   "mimetype": "text/x-python",
   "name": "python",
   "nbconvert_exporter": "python",
   "pygments_lexer": "ipython3",
   "version": "3.8.10"
  }
 },
 "nbformat": 4,
 "nbformat_minor": 5
}
